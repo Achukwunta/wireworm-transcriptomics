{
 "cells": [
  {
   "cell_type": "code",
   "execution_count": null,
   "id": "c7440749",
   "metadata": {},
   "outputs": [],
   "source": []
  },
  {
   "cell_type": "code",
   "execution_count": null,
   "id": "ab982f9c",
   "metadata": {},
   "outputs": [],
   "source": [
    "# KEGG Pathway Analysis for Hypnoidus abbreviatus"
   ]
  },
  {
   "cell_type": "code",
   "execution_count": 1,
   "id": "c12519ea",
   "metadata": {},
   "outputs": [],
   "source": [
    "# Import library\n",
    "import pandas as pd"
   ]
  },
  {
   "cell_type": "code",
   "execution_count": 2,
   "id": "c6f41e17",
   "metadata": {},
   "outputs": [],
   "source": [
    "# Load eggNOG output (adjust the filename/path)\n",
    "df = pd.read_csv(\"Haab_EggNOG_result.csv\", low_memory=False)"
   ]
  },
  {
   "cell_type": "code",
   "execution_count": 3,
   "id": "5d5cfa4d",
   "metadata": {
    "scrolled": true
   },
   "outputs": [
    {
     "data": {
      "text/html": [
       "<div>\n",
       "<style scoped>\n",
       "    .dataframe tbody tr th:only-of-type {\n",
       "        vertical-align: middle;\n",
       "    }\n",
       "\n",
       "    .dataframe tbody tr th {\n",
       "        vertical-align: top;\n",
       "    }\n",
       "\n",
       "    .dataframe thead th {\n",
       "        text-align: right;\n",
       "    }\n",
       "</style>\n",
       "<table border=\"1\" class=\"dataframe\">\n",
       "  <thead>\n",
       "    <tr style=\"text-align: right;\">\n",
       "      <th></th>\n",
       "      <th>#query</th>\n",
       "      <th>seed_ortholog</th>\n",
       "      <th>evalue</th>\n",
       "      <th>score</th>\n",
       "      <th>eggNOG_OGs</th>\n",
       "      <th>max_annot_lvl</th>\n",
       "      <th>COG_category</th>\n",
       "      <th>Description</th>\n",
       "      <th>Preferred_name</th>\n",
       "      <th>GOs</th>\n",
       "      <th>...</th>\n",
       "      <th>KEGG_ko</th>\n",
       "      <th>KEGG_Pathway</th>\n",
       "      <th>KEGG_Module</th>\n",
       "      <th>KEGG_Reaction</th>\n",
       "      <th>KEGG_rclass</th>\n",
       "      <th>BRITE</th>\n",
       "      <th>KEGG_TC</th>\n",
       "      <th>CAZy</th>\n",
       "      <th>BiGG_Reaction</th>\n",
       "      <th>PFAMs</th>\n",
       "    </tr>\n",
       "  </thead>\n",
       "  <tbody>\n",
       "    <tr>\n",
       "      <th>0</th>\n",
       "      <td>Habb_00001.p1</td>\n",
       "      <td>7070.TC007466-PA</td>\n",
       "      <td>7.580000e-296</td>\n",
       "      <td>826.0</td>\n",
       "      <td>COG1131@1|root,KOG0061@2759|Eukaryota,38CVQ@33...</td>\n",
       "      <td>33208|Metazoa</td>\n",
       "      <td>Q</td>\n",
       "      <td>ATP- binding</td>\n",
       "      <td>-</td>\n",
       "      <td>GO:0003674,GO:0003824,GO:0005215,GO:0005319,GO...</td>\n",
       "      <td>...</td>\n",
       "      <td>-</td>\n",
       "      <td>-</td>\n",
       "      <td>-</td>\n",
       "      <td>-</td>\n",
       "      <td>-</td>\n",
       "      <td>-</td>\n",
       "      <td>-</td>\n",
       "      <td>-</td>\n",
       "      <td>-</td>\n",
       "      <td>ABC2_membrane,ABC_tran</td>\n",
       "    </tr>\n",
       "    <tr>\n",
       "      <th>1</th>\n",
       "      <td>Habb_00001.p3</td>\n",
       "      <td>7070.TC007466-PA</td>\n",
       "      <td>3.860000e-54</td>\n",
       "      <td>186.0</td>\n",
       "      <td>COG1131@1|root,KOG0061@2759|Eukaryota,38CVQ@33...</td>\n",
       "      <td>33208|Metazoa</td>\n",
       "      <td>Q</td>\n",
       "      <td>ATP- binding</td>\n",
       "      <td>-</td>\n",
       "      <td>GO:0003674,GO:0003824,GO:0005215,GO:0005319,GO...</td>\n",
       "      <td>...</td>\n",
       "      <td>-</td>\n",
       "      <td>-</td>\n",
       "      <td>-</td>\n",
       "      <td>-</td>\n",
       "      <td>-</td>\n",
       "      <td>-</td>\n",
       "      <td>-</td>\n",
       "      <td>-</td>\n",
       "      <td>-</td>\n",
       "      <td>ABC2_membrane</td>\n",
       "    </tr>\n",
       "  </tbody>\n",
       "</table>\n",
       "<p>2 rows × 21 columns</p>\n",
       "</div>"
      ],
      "text/plain": [
       "          #query     seed_ortholog         evalue  score  \\\n",
       "0  Habb_00001.p1  7070.TC007466-PA  7.580000e-296  826.0   \n",
       "1  Habb_00001.p3  7070.TC007466-PA   3.860000e-54  186.0   \n",
       "\n",
       "                                          eggNOG_OGs  max_annot_lvl  \\\n",
       "0  COG1131@1|root,KOG0061@2759|Eukaryota,38CVQ@33...  33208|Metazoa   \n",
       "1  COG1131@1|root,KOG0061@2759|Eukaryota,38CVQ@33...  33208|Metazoa   \n",
       "\n",
       "  COG_category   Description Preferred_name  \\\n",
       "0            Q  ATP- binding              -   \n",
       "1            Q  ATP- binding              -   \n",
       "\n",
       "                                                 GOs  ... KEGG_ko  \\\n",
       "0  GO:0003674,GO:0003824,GO:0005215,GO:0005319,GO...  ...       -   \n",
       "1  GO:0003674,GO:0003824,GO:0005215,GO:0005319,GO...  ...       -   \n",
       "\n",
       "  KEGG_Pathway KEGG_Module KEGG_Reaction KEGG_rclass BRITE KEGG_TC CAZy  \\\n",
       "0            -           -             -           -     -       -    -   \n",
       "1            -           -             -           -     -       -    -   \n",
       "\n",
       "  BiGG_Reaction                   PFAMs  \n",
       "0             -  ABC2_membrane,ABC_tran  \n",
       "1             -           ABC2_membrane  \n",
       "\n",
       "[2 rows x 21 columns]"
      ]
     },
     "execution_count": 3,
     "metadata": {},
     "output_type": "execute_result"
    }
   ],
   "source": [
    "df.head(2) # View top 2 columns from the dataframe"
   ]
  },
  {
   "cell_type": "code",
   "execution_count": 4,
   "id": "36663586",
   "metadata": {},
   "outputs": [],
   "source": [
    "# Rename for consistency\n",
    "df = df.rename(columns={\"#query\": \"query\"})"
   ]
  },
  {
   "cell_type": "code",
   "execution_count": 5,
   "id": "ee554f58",
   "metadata": {},
   "outputs": [],
   "source": [
    "df = df[[\"query\", \"KEGG_ko\"]]  # You can include 'KEGG_Pathway' if needed\n",
    "df = df.dropna(subset=[\"KEGG_ko\"])"
   ]
  },
  {
   "cell_type": "code",
   "execution_count": 6,
   "id": "ad6e3400",
   "metadata": {},
   "outputs": [
    {
     "data": {
      "text/plain": [
       "27624"
      ]
     },
     "execution_count": 6,
     "metadata": {},
     "output_type": "execute_result"
    }
   ],
   "source": [
    "len(df)"
   ]
  },
  {
   "cell_type": "code",
   "execution_count": 7,
   "id": "d31e14d7",
   "metadata": {},
   "outputs": [],
   "source": [
    "import re"
   ]
  },
  {
   "cell_type": "code",
   "execution_count": 8,
   "id": "264daa4e",
   "metadata": {},
   "outputs": [],
   "source": [
    "# clean up the query column by removing the version suffixes (.p1, .p2, .pe, etc.)\n",
    "df[\"gene\"] = df[\"query\"].apply(lambda x: re.sub(r\"\\.p\\d+$|\\.pe$\", \"\", x))"
   ]
  },
  {
   "cell_type": "code",
   "execution_count": 9,
   "id": "6123ec32",
   "metadata": {},
   "outputs": [],
   "source": [
    "# Convert the KEGG_ko column to strings\n",
    "# Creates a new column KEGG_ko_list by splitting the comma-separated values in KEGG_ko into lists\n",
    "df[\"KEGG_ko\"] = df[\"KEGG_ko\"].astype(str)\n",
    "df[\"KEGG_ko_list\"] = df[\"KEGG_ko\"].str.split(\",\")"
   ]
  },
  {
   "cell_type": "code",
   "execution_count": 10,
   "id": "77e86d70",
   "metadata": {},
   "outputs": [],
   "source": [
    "# explodes the KEGG_ko_list column into separate rows\n",
    "df_exploded = df.explode(\"KEGG_ko_list\")\n",
    "df_exploded = df_exploded[[\"gene\", \"KEGG_ko_list\"]].rename(columns={\"KEGG_ko_list\": \"kegg_id\"})"
   ]
  },
  {
   "cell_type": "code",
   "execution_count": 11,
   "id": "4ce5c6c5",
   "metadata": {},
   "outputs": [
    {
     "data": {
      "text/html": [
       "<div>\n",
       "<style scoped>\n",
       "    .dataframe tbody tr th:only-of-type {\n",
       "        vertical-align: middle;\n",
       "    }\n",
       "\n",
       "    .dataframe tbody tr th {\n",
       "        vertical-align: top;\n",
       "    }\n",
       "\n",
       "    .dataframe thead th {\n",
       "        text-align: right;\n",
       "    }\n",
       "</style>\n",
       "<table border=\"1\" class=\"dataframe\">\n",
       "  <thead>\n",
       "    <tr style=\"text-align: right;\">\n",
       "      <th></th>\n",
       "      <th>gene</th>\n",
       "      <th>kegg_id</th>\n",
       "    </tr>\n",
       "  </thead>\n",
       "  <tbody>\n",
       "    <tr>\n",
       "      <th>0</th>\n",
       "      <td>Habb_00001</td>\n",
       "      <td>-</td>\n",
       "    </tr>\n",
       "    <tr>\n",
       "      <th>1</th>\n",
       "      <td>Habb_00001</td>\n",
       "      <td>-</td>\n",
       "    </tr>\n",
       "    <tr>\n",
       "      <th>2</th>\n",
       "      <td>Habb_00002</td>\n",
       "      <td>-</td>\n",
       "    </tr>\n",
       "    <tr>\n",
       "      <th>3</th>\n",
       "      <td>Habb_00006</td>\n",
       "      <td>ko:K10643</td>\n",
       "    </tr>\n",
       "    <tr>\n",
       "      <th>4</th>\n",
       "      <td>Habb_00007</td>\n",
       "      <td>ko:K10643</td>\n",
       "    </tr>\n",
       "    <tr>\n",
       "      <th>...</th>\n",
       "      <td>...</td>\n",
       "      <td>...</td>\n",
       "    </tr>\n",
       "    <tr>\n",
       "      <th>27620</th>\n",
       "      <td>Habb_99961</td>\n",
       "      <td>ko:K10703</td>\n",
       "    </tr>\n",
       "    <tr>\n",
       "      <th>27621</th>\n",
       "      <td>Habb_99973</td>\n",
       "      <td>ko:K11723</td>\n",
       "    </tr>\n",
       "    <tr>\n",
       "      <th>27621</th>\n",
       "      <td>Habb_99973</td>\n",
       "      <td>ko:K22184</td>\n",
       "    </tr>\n",
       "    <tr>\n",
       "      <th>27622</th>\n",
       "      <td>Habb_99975</td>\n",
       "      <td>ko:K04708</td>\n",
       "    </tr>\n",
       "    <tr>\n",
       "      <th>27623</th>\n",
       "      <td>Habb_99978</td>\n",
       "      <td>ko:K03108</td>\n",
       "    </tr>\n",
       "  </tbody>\n",
       "</table>\n",
       "<p>34783 rows × 2 columns</p>\n",
       "</div>"
      ],
      "text/plain": [
       "             gene    kegg_id\n",
       "0      Habb_00001          -\n",
       "1      Habb_00001          -\n",
       "2      Habb_00002          -\n",
       "3      Habb_00006  ko:K10643\n",
       "4      Habb_00007  ko:K10643\n",
       "...           ...        ...\n",
       "27620  Habb_99961  ko:K10703\n",
       "27621  Habb_99973  ko:K11723\n",
       "27621  Habb_99973  ko:K22184\n",
       "27622  Habb_99975  ko:K04708\n",
       "27623  Habb_99978  ko:K03108\n",
       "\n",
       "[34783 rows x 2 columns]"
      ]
     },
     "execution_count": 11,
     "metadata": {},
     "output_type": "execute_result"
    }
   ],
   "source": [
    "df_exploded"
   ]
  },
  {
   "cell_type": "code",
   "execution_count": 12,
   "id": "b9eba360",
   "metadata": {},
   "outputs": [],
   "source": [
    "df_exploded = df_exploded[df_exploded['kegg_id'] != '-'] # Remove \"-\""
   ]
  },
  {
   "cell_type": "code",
   "execution_count": 13,
   "id": "f0daba30",
   "metadata": {},
   "outputs": [
    {
     "data": {
      "text/plain": [
       "25470"
      ]
     },
     "execution_count": 13,
     "metadata": {},
     "output_type": "execute_result"
    }
   ],
   "source": [
    "len(df_exploded) # length of dataframe"
   ]
  },
  {
   "cell_type": "code",
   "execution_count": 14,
   "id": "8ead3fa0",
   "metadata": {},
   "outputs": [
    {
     "data": {
      "text/html": [
       "<div>\n",
       "<style scoped>\n",
       "    .dataframe tbody tr th:only-of-type {\n",
       "        vertical-align: middle;\n",
       "    }\n",
       "\n",
       "    .dataframe tbody tr th {\n",
       "        vertical-align: top;\n",
       "    }\n",
       "\n",
       "    .dataframe thead th {\n",
       "        text-align: right;\n",
       "    }\n",
       "</style>\n",
       "<table border=\"1\" class=\"dataframe\">\n",
       "  <thead>\n",
       "    <tr style=\"text-align: right;\">\n",
       "      <th></th>\n",
       "      <th>gene</th>\n",
       "      <th>kegg_id</th>\n",
       "    </tr>\n",
       "  </thead>\n",
       "  <tbody>\n",
       "    <tr>\n",
       "      <th>3</th>\n",
       "      <td>Habb_00006</td>\n",
       "      <td>ko:K10643</td>\n",
       "    </tr>\n",
       "    <tr>\n",
       "      <th>4</th>\n",
       "      <td>Habb_00007</td>\n",
       "      <td>ko:K10643</td>\n",
       "    </tr>\n",
       "    <tr>\n",
       "      <th>5</th>\n",
       "      <td>Habb_00012</td>\n",
       "      <td>ko:K01312</td>\n",
       "    </tr>\n",
       "    <tr>\n",
       "      <th>6</th>\n",
       "      <td>Habb_00013</td>\n",
       "      <td>ko:K09632</td>\n",
       "    </tr>\n",
       "    <tr>\n",
       "      <th>7</th>\n",
       "      <td>Habb_00018</td>\n",
       "      <td>ko:K08819</td>\n",
       "    </tr>\n",
       "    <tr>\n",
       "      <th>...</th>\n",
       "      <td>...</td>\n",
       "      <td>...</td>\n",
       "    </tr>\n",
       "    <tr>\n",
       "      <th>27620</th>\n",
       "      <td>Habb_99961</td>\n",
       "      <td>ko:K10703</td>\n",
       "    </tr>\n",
       "    <tr>\n",
       "      <th>27621</th>\n",
       "      <td>Habb_99973</td>\n",
       "      <td>ko:K11723</td>\n",
       "    </tr>\n",
       "    <tr>\n",
       "      <th>27621</th>\n",
       "      <td>Habb_99973</td>\n",
       "      <td>ko:K22184</td>\n",
       "    </tr>\n",
       "    <tr>\n",
       "      <th>27622</th>\n",
       "      <td>Habb_99975</td>\n",
       "      <td>ko:K04708</td>\n",
       "    </tr>\n",
       "    <tr>\n",
       "      <th>27623</th>\n",
       "      <td>Habb_99978</td>\n",
       "      <td>ko:K03108</td>\n",
       "    </tr>\n",
       "  </tbody>\n",
       "</table>\n",
       "<p>25470 rows × 2 columns</p>\n",
       "</div>"
      ],
      "text/plain": [
       "             gene    kegg_id\n",
       "3      Habb_00006  ko:K10643\n",
       "4      Habb_00007  ko:K10643\n",
       "5      Habb_00012  ko:K01312\n",
       "6      Habb_00013  ko:K09632\n",
       "7      Habb_00018  ko:K08819\n",
       "...           ...        ...\n",
       "27620  Habb_99961  ko:K10703\n",
       "27621  Habb_99973  ko:K11723\n",
       "27621  Habb_99973  ko:K22184\n",
       "27622  Habb_99975  ko:K04708\n",
       "27623  Habb_99978  ko:K03108\n",
       "\n",
       "[25470 rows x 2 columns]"
      ]
     },
     "execution_count": 14,
     "metadata": {},
     "output_type": "execute_result"
    }
   ],
   "source": [
    "df_exploded # View the dataframe"
   ]
  },
  {
   "cell_type": "code",
   "execution_count": 15,
   "id": "af72c640",
   "metadata": {},
   "outputs": [],
   "source": [
    "# Count KO frequencies"
   ]
  },
  {
   "cell_type": "code",
   "execution_count": 16,
   "id": "bfaf1ea0",
   "metadata": {},
   "outputs": [],
   "source": [
    "kegg_counts = df_exploded[\"kegg_id\"].value_counts().reset_index()\n",
    "kegg_counts.columns = [\"kegg_id\", \"count\"]"
   ]
  },
  {
   "cell_type": "code",
   "execution_count": 17,
   "id": "16d9a579",
   "metadata": {},
   "outputs": [
    {
     "data": {
      "text/html": [
       "<div>\n",
       "<style scoped>\n",
       "    .dataframe tbody tr th:only-of-type {\n",
       "        vertical-align: middle;\n",
       "    }\n",
       "\n",
       "    .dataframe tbody tr th {\n",
       "        vertical-align: top;\n",
       "    }\n",
       "\n",
       "    .dataframe thead th {\n",
       "        text-align: right;\n",
       "    }\n",
       "</style>\n",
       "<table border=\"1\" class=\"dataframe\">\n",
       "  <thead>\n",
       "    <tr style=\"text-align: right;\">\n",
       "      <th></th>\n",
       "      <th>kegg_id</th>\n",
       "      <th>count</th>\n",
       "    </tr>\n",
       "  </thead>\n",
       "  <tbody>\n",
       "    <tr>\n",
       "      <th>0</th>\n",
       "      <td>ko:K09228</td>\n",
       "      <td>159</td>\n",
       "    </tr>\n",
       "    <tr>\n",
       "      <th>1</th>\n",
       "      <td>ko:K12567</td>\n",
       "      <td>151</td>\n",
       "    </tr>\n",
       "    <tr>\n",
       "      <th>2</th>\n",
       "      <td>ko:K14999</td>\n",
       "      <td>143</td>\n",
       "    </tr>\n",
       "    <tr>\n",
       "      <th>3</th>\n",
       "      <td>ko:K00699</td>\n",
       "      <td>126</td>\n",
       "    </tr>\n",
       "    <tr>\n",
       "      <th>4</th>\n",
       "      <td>ko:K09640</td>\n",
       "      <td>120</td>\n",
       "    </tr>\n",
       "    <tr>\n",
       "      <th>...</th>\n",
       "      <td>...</td>\n",
       "      <td>...</td>\n",
       "    </tr>\n",
       "    <tr>\n",
       "      <th>6597</th>\n",
       "      <td>ko:K17433</td>\n",
       "      <td>1</td>\n",
       "    </tr>\n",
       "    <tr>\n",
       "      <th>6598</th>\n",
       "      <td>ko:K17386</td>\n",
       "      <td>1</td>\n",
       "    </tr>\n",
       "    <tr>\n",
       "      <th>6599</th>\n",
       "      <td>ko:K10687</td>\n",
       "      <td>1</td>\n",
       "    </tr>\n",
       "    <tr>\n",
       "      <th>6600</th>\n",
       "      <td>ko:K17353</td>\n",
       "      <td>1</td>\n",
       "    </tr>\n",
       "    <tr>\n",
       "      <th>6601</th>\n",
       "      <td>ko:K16354</td>\n",
       "      <td>1</td>\n",
       "    </tr>\n",
       "  </tbody>\n",
       "</table>\n",
       "<p>6602 rows × 2 columns</p>\n",
       "</div>"
      ],
      "text/plain": [
       "        kegg_id  count\n",
       "0     ko:K09228    159\n",
       "1     ko:K12567    151\n",
       "2     ko:K14999    143\n",
       "3     ko:K00699    126\n",
       "4     ko:K09640    120\n",
       "...         ...    ...\n",
       "6597  ko:K17433      1\n",
       "6598  ko:K17386      1\n",
       "6599  ko:K10687      1\n",
       "6600  ko:K17353      1\n",
       "6601  ko:K16354      1\n",
       "\n",
       "[6602 rows x 2 columns]"
      ]
     },
     "execution_count": 17,
     "metadata": {},
     "output_type": "execute_result"
    }
   ],
   "source": [
    "kegg_counts"
   ]
  },
  {
   "cell_type": "code",
   "execution_count": 18,
   "id": "03718891",
   "metadata": {},
   "outputs": [],
   "source": [
    "# Remove \"ko:\" prefix from the KEGG ID to match ko_df\n",
    "kegg_counts[\"kegg_id_clean\"] = kegg_counts[\"kegg_id\"].str.replace(\"ko:\", \"\", regex=False)"
   ]
  },
  {
   "cell_type": "code",
   "execution_count": 19,
   "id": "ab4121e2",
   "metadata": {},
   "outputs": [
    {
     "data": {
      "text/html": [
       "<div>\n",
       "<style scoped>\n",
       "    .dataframe tbody tr th:only-of-type {\n",
       "        vertical-align: middle;\n",
       "    }\n",
       "\n",
       "    .dataframe tbody tr th {\n",
       "        vertical-align: top;\n",
       "    }\n",
       "\n",
       "    .dataframe thead th {\n",
       "        text-align: right;\n",
       "    }\n",
       "</style>\n",
       "<table border=\"1\" class=\"dataframe\">\n",
       "  <thead>\n",
       "    <tr style=\"text-align: right;\">\n",
       "      <th></th>\n",
       "      <th>kegg_id</th>\n",
       "      <th>count</th>\n",
       "      <th>kegg_id_clean</th>\n",
       "    </tr>\n",
       "  </thead>\n",
       "  <tbody>\n",
       "    <tr>\n",
       "      <th>0</th>\n",
       "      <td>ko:K09228</td>\n",
       "      <td>159</td>\n",
       "      <td>K09228</td>\n",
       "    </tr>\n",
       "    <tr>\n",
       "      <th>1</th>\n",
       "      <td>ko:K12567</td>\n",
       "      <td>151</td>\n",
       "      <td>K12567</td>\n",
       "    </tr>\n",
       "    <tr>\n",
       "      <th>2</th>\n",
       "      <td>ko:K14999</td>\n",
       "      <td>143</td>\n",
       "      <td>K14999</td>\n",
       "    </tr>\n",
       "  </tbody>\n",
       "</table>\n",
       "</div>"
      ],
      "text/plain": [
       "     kegg_id  count kegg_id_clean\n",
       "0  ko:K09228    159        K09228\n",
       "1  ko:K12567    151        K12567\n",
       "2  ko:K14999    143        K14999"
      ]
     },
     "execution_count": 19,
     "metadata": {},
     "output_type": "execute_result"
    }
   ],
   "source": [
    "kegg_counts.head(3)"
   ]
  },
  {
   "cell_type": "code",
   "execution_count": 20,
   "id": "67db009a",
   "metadata": {},
   "outputs": [],
   "source": [
    "# Annotate KO terms"
   ]
  },
  {
   "cell_type": "code",
   "execution_count": 21,
   "id": "6b846faa",
   "metadata": {},
   "outputs": [],
   "source": [
    "import requests"
   ]
  },
  {
   "cell_type": "code",
   "execution_count": 22,
   "id": "1178458d",
   "metadata": {},
   "outputs": [],
   "source": [
    "# Download KO names once from KEGG\n",
    "#wget https://rest.kegg.jp/list/ko -O ko_list.txt"
   ]
  },
  {
   "cell_type": "code",
   "execution_count": 23,
   "id": "c7c8a5ec",
   "metadata": {},
   "outputs": [],
   "source": [
    "# Load KO descriptions, using multiple spaces as separator\n",
    "ko_df = pd.read_csv(\"ko_list.txt\", sep='\\t', header=None, names=[\"kegg_id\", \"description\"])"
   ]
  },
  {
   "cell_type": "code",
   "execution_count": 24,
   "id": "6ba9b57e",
   "metadata": {},
   "outputs": [
    {
     "data": {
      "text/html": [
       "<div>\n",
       "<style scoped>\n",
       "    .dataframe tbody tr th:only-of-type {\n",
       "        vertical-align: middle;\n",
       "    }\n",
       "\n",
       "    .dataframe tbody tr th {\n",
       "        vertical-align: top;\n",
       "    }\n",
       "\n",
       "    .dataframe thead th {\n",
       "        text-align: right;\n",
       "    }\n",
       "</style>\n",
       "<table border=\"1\" class=\"dataframe\">\n",
       "  <thead>\n",
       "    <tr style=\"text-align: right;\">\n",
       "      <th></th>\n",
       "      <th>kegg_id</th>\n",
       "      <th>description</th>\n",
       "    </tr>\n",
       "  </thead>\n",
       "  <tbody>\n",
       "    <tr>\n",
       "      <th>0</th>\n",
       "      <td>K00001</td>\n",
       "      <td>E1.1.1.1, adh; alcohol dehydrogenase [EC:1.1.1.1]</td>\n",
       "    </tr>\n",
       "    <tr>\n",
       "      <th>1</th>\n",
       "      <td>K00002</td>\n",
       "      <td>AKR1A1, adh; alcohol dehydrogenase (NADP+) [EC...</td>\n",
       "    </tr>\n",
       "    <tr>\n",
       "      <th>2</th>\n",
       "      <td>K00003</td>\n",
       "      <td>hom; homoserine dehydrogenase [EC:1.1.1.3]</td>\n",
       "    </tr>\n",
       "    <tr>\n",
       "      <th>3</th>\n",
       "      <td>K00004</td>\n",
       "      <td>BDH, butB; (R,R)-butanediol dehydrogenase / me...</td>\n",
       "    </tr>\n",
       "    <tr>\n",
       "      <th>4</th>\n",
       "      <td>K00005</td>\n",
       "      <td>gldA; glycerol dehydrogenase [EC:1.1.1.6]</td>\n",
       "    </tr>\n",
       "  </tbody>\n",
       "</table>\n",
       "</div>"
      ],
      "text/plain": [
       "  kegg_id                                        description\n",
       "0  K00001  E1.1.1.1, adh; alcohol dehydrogenase [EC:1.1.1.1]\n",
       "1  K00002  AKR1A1, adh; alcohol dehydrogenase (NADP+) [EC...\n",
       "2  K00003         hom; homoserine dehydrogenase [EC:1.1.1.3]\n",
       "3  K00004  BDH, butB; (R,R)-butanediol dehydrogenase / me...\n",
       "4  K00005          gldA; glycerol dehydrogenase [EC:1.1.1.6]"
      ]
     },
     "execution_count": 24,
     "metadata": {},
     "output_type": "execute_result"
    }
   ],
   "source": [
    "# Preview\n",
    "ko_df.head()"
   ]
  },
  {
   "cell_type": "code",
   "execution_count": 25,
   "id": "a0458085",
   "metadata": {},
   "outputs": [],
   "source": [
    "# ko_df is already loaded with:\n",
    "# Columns: [\"kegg_id\", \"description\"]\n",
    "ko_map = dict(zip(ko_df[\"kegg_id\"], ko_df[\"description\"]))"
   ]
  },
  {
   "cell_type": "code",
   "execution_count": null,
   "id": "daa9fd89",
   "metadata": {},
   "outputs": [],
   "source": []
  },
  {
   "cell_type": "code",
   "execution_count": 26,
   "id": "14f55e2c",
   "metadata": {},
   "outputs": [],
   "source": [
    "# Add description by mapping cleaned KO ID\n",
    "kegg_counts[\"description\"] = kegg_counts[\"kegg_id_clean\"].map(ko_map).fillna(\"Unknown\")"
   ]
  },
  {
   "cell_type": "code",
   "execution_count": 27,
   "id": "bfcddfbe",
   "metadata": {},
   "outputs": [
    {
     "data": {
      "text/html": [
       "<div>\n",
       "<style scoped>\n",
       "    .dataframe tbody tr th:only-of-type {\n",
       "        vertical-align: middle;\n",
       "    }\n",
       "\n",
       "    .dataframe tbody tr th {\n",
       "        vertical-align: top;\n",
       "    }\n",
       "\n",
       "    .dataframe thead th {\n",
       "        text-align: right;\n",
       "    }\n",
       "</style>\n",
       "<table border=\"1\" class=\"dataframe\">\n",
       "  <thead>\n",
       "    <tr style=\"text-align: right;\">\n",
       "      <th></th>\n",
       "      <th>kegg_id</th>\n",
       "      <th>count</th>\n",
       "      <th>kegg_id_clean</th>\n",
       "      <th>description</th>\n",
       "    </tr>\n",
       "  </thead>\n",
       "  <tbody>\n",
       "    <tr>\n",
       "      <th>0</th>\n",
       "      <td>ko:K09228</td>\n",
       "      <td>159</td>\n",
       "      <td>K09228</td>\n",
       "      <td>KRAB; KRAB domain-containing zinc finger protein</td>\n",
       "    </tr>\n",
       "    <tr>\n",
       "      <th>1</th>\n",
       "      <td>ko:K12567</td>\n",
       "      <td>151</td>\n",
       "      <td>K12567</td>\n",
       "      <td>TTN; titin [EC:2.7.11.1]</td>\n",
       "    </tr>\n",
       "  </tbody>\n",
       "</table>\n",
       "</div>"
      ],
      "text/plain": [
       "     kegg_id  count kegg_id_clean  \\\n",
       "0  ko:K09228    159        K09228   \n",
       "1  ko:K12567    151        K12567   \n",
       "\n",
       "                                        description  \n",
       "0  KRAB; KRAB domain-containing zinc finger protein  \n",
       "1                          TTN; titin [EC:2.7.11.1]  "
      ]
     },
     "execution_count": 27,
     "metadata": {},
     "output_type": "execute_result"
    }
   ],
   "source": [
    "kegg_counts.head(2)"
   ]
  },
  {
   "cell_type": "code",
   "execution_count": 28,
   "id": "a941bc8e",
   "metadata": {},
   "outputs": [],
   "source": [
    "# Optional cleaning: Remove EC annotations\n",
    "kegg_counts[\"description\"] = kegg_counts[\"description\"].str.replace(r\"\\s+\\[EC:[^\\]]+\\]\", \"\", regex=True)"
   ]
  },
  {
   "cell_type": "code",
   "execution_count": 29,
   "id": "3191a495",
   "metadata": {},
   "outputs": [
    {
     "data": {
      "text/html": [
       "<div>\n",
       "<style scoped>\n",
       "    .dataframe tbody tr th:only-of-type {\n",
       "        vertical-align: middle;\n",
       "    }\n",
       "\n",
       "    .dataframe tbody tr th {\n",
       "        vertical-align: top;\n",
       "    }\n",
       "\n",
       "    .dataframe thead th {\n",
       "        text-align: right;\n",
       "    }\n",
       "</style>\n",
       "<table border=\"1\" class=\"dataframe\">\n",
       "  <thead>\n",
       "    <tr style=\"text-align: right;\">\n",
       "      <th></th>\n",
       "      <th>kegg_id</th>\n",
       "      <th>count</th>\n",
       "      <th>kegg_id_clean</th>\n",
       "      <th>description</th>\n",
       "    </tr>\n",
       "  </thead>\n",
       "  <tbody>\n",
       "    <tr>\n",
       "      <th>0</th>\n",
       "      <td>ko:K09228</td>\n",
       "      <td>159</td>\n",
       "      <td>K09228</td>\n",
       "      <td>KRAB; KRAB domain-containing zinc finger protein</td>\n",
       "    </tr>\n",
       "    <tr>\n",
       "      <th>1</th>\n",
       "      <td>ko:K12567</td>\n",
       "      <td>151</td>\n",
       "      <td>K12567</td>\n",
       "      <td>TTN; titin</td>\n",
       "    </tr>\n",
       "    <tr>\n",
       "      <th>2</th>\n",
       "      <td>ko:K14999</td>\n",
       "      <td>143</td>\n",
       "      <td>K14999</td>\n",
       "      <td>CYP6; cytochrome P450 family 6</td>\n",
       "    </tr>\n",
       "    <tr>\n",
       "      <th>3</th>\n",
       "      <td>ko:K00699</td>\n",
       "      <td>126</td>\n",
       "      <td>K00699</td>\n",
       "      <td>UGT; glucuronosyltransferase</td>\n",
       "    </tr>\n",
       "    <tr>\n",
       "      <th>4</th>\n",
       "      <td>ko:K09640</td>\n",
       "      <td>120</td>\n",
       "      <td>K09640</td>\n",
       "      <td>TMPRSS9; transmembrane protease serine 9</td>\n",
       "    </tr>\n",
       "    <tr>\n",
       "      <th>...</th>\n",
       "      <td>...</td>\n",
       "      <td>...</td>\n",
       "      <td>...</td>\n",
       "      <td>...</td>\n",
       "    </tr>\n",
       "    <tr>\n",
       "      <th>6597</th>\n",
       "      <td>ko:K17433</td>\n",
       "      <td>1</td>\n",
       "      <td>K17433</td>\n",
       "      <td>MRPL52; large subunit ribosomal protein L52</td>\n",
       "    </tr>\n",
       "    <tr>\n",
       "      <th>6598</th>\n",
       "      <td>ko:K17386</td>\n",
       "      <td>1</td>\n",
       "      <td>K17386</td>\n",
       "      <td>PDGFB; platelet-derived growth factor subunit B</td>\n",
       "    </tr>\n",
       "    <tr>\n",
       "      <th>6599</th>\n",
       "      <td>ko:K10687</td>\n",
       "      <td>1</td>\n",
       "      <td>K10687</td>\n",
       "      <td>UBE2F; ubiquitin-conjugating enzyme E2 F</td>\n",
       "    </tr>\n",
       "    <tr>\n",
       "      <th>6600</th>\n",
       "      <td>ko:K17353</td>\n",
       "      <td>1</td>\n",
       "      <td>K17353</td>\n",
       "      <td>TSPAN18; tetraspanin-18</td>\n",
       "    </tr>\n",
       "    <tr>\n",
       "      <th>6601</th>\n",
       "      <td>ko:K16354</td>\n",
       "      <td>1</td>\n",
       "      <td>K16354</td>\n",
       "      <td>LRFN1, SALM2; leucine-rich repeat and fibronec...</td>\n",
       "    </tr>\n",
       "  </tbody>\n",
       "</table>\n",
       "<p>6602 rows × 4 columns</p>\n",
       "</div>"
      ],
      "text/plain": [
       "        kegg_id  count kegg_id_clean  \\\n",
       "0     ko:K09228    159        K09228   \n",
       "1     ko:K12567    151        K12567   \n",
       "2     ko:K14999    143        K14999   \n",
       "3     ko:K00699    126        K00699   \n",
       "4     ko:K09640    120        K09640   \n",
       "...         ...    ...           ...   \n",
       "6597  ko:K17433      1        K17433   \n",
       "6598  ko:K17386      1        K17386   \n",
       "6599  ko:K10687      1        K10687   \n",
       "6600  ko:K17353      1        K17353   \n",
       "6601  ko:K16354      1        K16354   \n",
       "\n",
       "                                            description  \n",
       "0      KRAB; KRAB domain-containing zinc finger protein  \n",
       "1                                            TTN; titin  \n",
       "2                        CYP6; cytochrome P450 family 6  \n",
       "3                          UGT; glucuronosyltransferase  \n",
       "4              TMPRSS9; transmembrane protease serine 9  \n",
       "...                                                 ...  \n",
       "6597        MRPL52; large subunit ribosomal protein L52  \n",
       "6598    PDGFB; platelet-derived growth factor subunit B  \n",
       "6599           UBE2F; ubiquitin-conjugating enzyme E2 F  \n",
       "6600                            TSPAN18; tetraspanin-18  \n",
       "6601  LRFN1, SALM2; leucine-rich repeat and fibronec...  \n",
       "\n",
       "[6602 rows x 4 columns]"
      ]
     },
     "execution_count": 29,
     "metadata": {},
     "output_type": "execute_result"
    }
   ],
   "source": [
    "kegg_counts"
   ]
  },
  {
   "cell_type": "code",
   "execution_count": 30,
   "id": "1738f3ab",
   "metadata": {},
   "outputs": [],
   "source": [
    "# Filter Low-Frequency KOs (e.g., <20 occurrences)\n",
    "filtered_kegg = kegg_counts[kegg_counts[\"count\"] >= 10]"
   ]
  },
  {
   "cell_type": "code",
   "execution_count": 31,
   "id": "8bc52bb5",
   "metadata": {},
   "outputs": [
    {
     "data": {
      "text/html": [
       "<div>\n",
       "<style scoped>\n",
       "    .dataframe tbody tr th:only-of-type {\n",
       "        vertical-align: middle;\n",
       "    }\n",
       "\n",
       "    .dataframe tbody tr th {\n",
       "        vertical-align: top;\n",
       "    }\n",
       "\n",
       "    .dataframe thead th {\n",
       "        text-align: right;\n",
       "    }\n",
       "</style>\n",
       "<table border=\"1\" class=\"dataframe\">\n",
       "  <thead>\n",
       "    <tr style=\"text-align: right;\">\n",
       "      <th></th>\n",
       "      <th>kegg_id</th>\n",
       "      <th>count</th>\n",
       "      <th>kegg_id_clean</th>\n",
       "      <th>description</th>\n",
       "    </tr>\n",
       "  </thead>\n",
       "  <tbody>\n",
       "    <tr>\n",
       "      <th>0</th>\n",
       "      <td>ko:K09228</td>\n",
       "      <td>159</td>\n",
       "      <td>K09228</td>\n",
       "      <td>KRAB; KRAB domain-containing zinc finger protein</td>\n",
       "    </tr>\n",
       "    <tr>\n",
       "      <th>1</th>\n",
       "      <td>ko:K12567</td>\n",
       "      <td>151</td>\n",
       "      <td>K12567</td>\n",
       "      <td>TTN; titin</td>\n",
       "    </tr>\n",
       "    <tr>\n",
       "      <th>2</th>\n",
       "      <td>ko:K14999</td>\n",
       "      <td>143</td>\n",
       "      <td>K14999</td>\n",
       "      <td>CYP6; cytochrome P450 family 6</td>\n",
       "    </tr>\n",
       "    <tr>\n",
       "      <th>3</th>\n",
       "      <td>ko:K00699</td>\n",
       "      <td>126</td>\n",
       "      <td>K00699</td>\n",
       "      <td>UGT; glucuronosyltransferase</td>\n",
       "    </tr>\n",
       "    <tr>\n",
       "      <th>4</th>\n",
       "      <td>ko:K09640</td>\n",
       "      <td>120</td>\n",
       "      <td>K09640</td>\n",
       "      <td>TMPRSS9; transmembrane protease serine 9</td>\n",
       "    </tr>\n",
       "    <tr>\n",
       "      <th>...</th>\n",
       "      <td>...</td>\n",
       "      <td>...</td>\n",
       "      <td>...</td>\n",
       "      <td>...</td>\n",
       "    </tr>\n",
       "    <tr>\n",
       "      <th>357</th>\n",
       "      <td>ko:K18266</td>\n",
       "      <td>10</td>\n",
       "      <td>K18266</td>\n",
       "      <td>NDRG1; protein NDRG1</td>\n",
       "    </tr>\n",
       "    <tr>\n",
       "      <th>358</th>\n",
       "      <td>ko:K12389</td>\n",
       "      <td>10</td>\n",
       "      <td>K12389</td>\n",
       "      <td>BTS, CLN3; battenin</td>\n",
       "    </tr>\n",
       "    <tr>\n",
       "      <th>359</th>\n",
       "      <td>ko:K19176</td>\n",
       "      <td>10</td>\n",
       "      <td>K19176</td>\n",
       "      <td>FAAH2; fatty acid amide hydrolase 2</td>\n",
       "    </tr>\n",
       "    <tr>\n",
       "      <th>360</th>\n",
       "      <td>ko:K08823</td>\n",
       "      <td>10</td>\n",
       "      <td>K08823</td>\n",
       "      <td>CLK2_3; dual specificity protein kinase CLK2/3</td>\n",
       "    </tr>\n",
       "    <tr>\n",
       "      <th>361</th>\n",
       "      <td>ko:K05768</td>\n",
       "      <td>10</td>\n",
       "      <td>K05768</td>\n",
       "      <td>GSN; gelsolin</td>\n",
       "    </tr>\n",
       "  </tbody>\n",
       "</table>\n",
       "<p>362 rows × 4 columns</p>\n",
       "</div>"
      ],
      "text/plain": [
       "       kegg_id  count kegg_id_clean  \\\n",
       "0    ko:K09228    159        K09228   \n",
       "1    ko:K12567    151        K12567   \n",
       "2    ko:K14999    143        K14999   \n",
       "3    ko:K00699    126        K00699   \n",
       "4    ko:K09640    120        K09640   \n",
       "..         ...    ...           ...   \n",
       "357  ko:K18266     10        K18266   \n",
       "358  ko:K12389     10        K12389   \n",
       "359  ko:K19176     10        K19176   \n",
       "360  ko:K08823     10        K08823   \n",
       "361  ko:K05768     10        K05768   \n",
       "\n",
       "                                          description  \n",
       "0    KRAB; KRAB domain-containing zinc finger protein  \n",
       "1                                          TTN; titin  \n",
       "2                      CYP6; cytochrome P450 family 6  \n",
       "3                        UGT; glucuronosyltransferase  \n",
       "4            TMPRSS9; transmembrane protease serine 9  \n",
       "..                                                ...  \n",
       "357                              NDRG1; protein NDRG1  \n",
       "358                               BTS, CLN3; battenin  \n",
       "359               FAAH2; fatty acid amide hydrolase 2  \n",
       "360    CLK2_3; dual specificity protein kinase CLK2/3  \n",
       "361                                     GSN; gelsolin  \n",
       "\n",
       "[362 rows x 4 columns]"
      ]
     },
     "execution_count": 31,
     "metadata": {},
     "output_type": "execute_result"
    }
   ],
   "source": [
    "filtered_kegg"
   ]
  },
  {
   "cell_type": "code",
   "execution_count": 32,
   "id": "42979137",
   "metadata": {},
   "outputs": [],
   "source": [
    "# Import libraries\n",
    "import matplotlib.pyplot as plt\n",
    "import seaborn as sns"
   ]
  },
  {
   "cell_type": "code",
   "execution_count": 33,
   "id": "6140647a",
   "metadata": {},
   "outputs": [],
   "source": [
    "# Visualize top 20 KEGG pathways based on their 'count'\n",
    "top_kegg = filtered_kegg.sort_values(\"count\", ascending=False).head(20)"
   ]
  },
  {
   "cell_type": "code",
   "execution_count": 34,
   "id": "6ea7b94e",
   "metadata": {},
   "outputs": [
    {
     "name": "stderr",
     "output_type": "stream",
     "text": [
      "C:\\Users\\Staff\\AppData\\Local\\Temp\\ipykernel_2176\\45982430.py:2: FutureWarning: \n",
      "\n",
      "Passing `palette` without assigning `hue` is deprecated and will be removed in v0.14.0. Assign the `y` variable to `hue` and set `legend=False` for the same effect.\n",
      "\n",
      "  sns.barplot(\n"
     ]
    },
    {
     "data": {
      "image/png": "[encoded data removed]",
      "text/plain": [
       "<Figure size 1000x800 with 1 Axes>"
      ]
     },
     "metadata": {},
     "output_type": "display_data"
    }
   ],
   "source": [
    "# Parameters for visualization\n",
    "plt.figure(figsize=(10, 8))\n",
    "sns.barplot(\n",
    "    data=top_kegg,\n",
    "    y=\"description\",\n",
    "    x=\"count\",\n",
    "    palette=\"RdYlBu\"\n",
    ")\n",
    "plt.title(\"Top 20 Enriched KEGG Pathways\")\n",
    "plt.xlabel(\"Gene Count\")\n",
    "plt.ylabel(\"KEGG Term\")\n",
    "plt.tight_layout()\n",
    "plt.savefig(\"Lcal_KEGG_Enrichment.png\", dpi=600)\n",
    "plt.show()"
   ]
  },
  {
   "cell_type": "code",
   "execution_count": 35,
   "id": "0733f53a",
   "metadata": {},
   "outputs": [],
   "source": [
    "# Save"
   ]
  },
  {
   "cell_type": "code",
   "execution_count": 32,
   "id": "453d266c",
   "metadata": {},
   "outputs": [],
   "source": [
    "filtered_kegg.to_csv(\"Habb_KEGG_Enrichment.csv\", index=False)"
   ]
  },
  {
   "cell_type": "code",
   "execution_count": null,
   "id": "014622cf",
   "metadata": {},
   "outputs": [],
   "source": []
  },
  {
   "cell_type": "code",
   "execution_count": null,
   "id": "ccee394c",
   "metadata": {},
   "outputs": [],
   "source": []
  },
  {
   "cell_type": "code",
   "execution_count": null,
   "id": "7f5b487c",
   "metadata": {},
   "outputs": [],
   "source": []
  }
 ],
 "metadata": {
  "kernelspec": {
   "display_name": "Python 3 (ipykernel)",
   "language": "python",
   "name": "python3"
  },
  "language_info": {
   "codemirror_mode": {
    "name": "ipython",
    "version": 3
   },
   "file_extension": ".py",
   "mimetype": "text/x-python",
   "name": "python",
   "nbconvert_exporter": "python",
   "pygments_lexer": "ipython3",
   "version": "3.11.5"
  }
 },
 "nbformat": 4,
 "nbformat_minor": 5
}
